{
 "cells": [
  {
   "cell_type": "code",
   "execution_count": null,
   "id": "architectural-roads",
   "metadata": {},
   "outputs": [],
   "source": [
    "#Importing Python builtin module to work with SQL\n",
    "import sqlite3\n",
    "\n",
    "#The way to Connect to SQLite database\n",
    "conn = sqlite3.connect('database.sqlite')\n",
    "cursor = conn.cursor()\n",
    "print(\"Opened database successfully\")\n",
    "\n",
    "#The way to Create a table\n",
    "cursor.execute('''CREATE TABLE EMPLOYEE\n",
    "         (ID INT PRIMARY KEY     NOT NULL,\n",
    "         NAME           TEXT    NOT NULL,\n",
    "         AGE            INT     NOT NULL);''')\n",
    "cursor.close()\n",
    "\n",
    "#The way to Insert in a table\n",
    "conn = sqlite3.connect('database.sqlite')\n",
    "cursor = conn.cursor()\n",
    "cursor.execute(\"INSERT INTO EMPLOYEE (ID,NAME,AGE) \\\n",
    "      VALUES (1, 'Razi', 14')\");\n",
    "cursor.execute(\"INSERT INTO EMPLOYEE (ID,NAME,AGE,ADDRESS,MARKS) \\\n",
    "      VALUES (2, 'Jon', 19, 'Bangalore', 150 )\");\n",
    "cursor.execute(\"INSERT INTO EMPLOYEE (ID,NAME,AGE) \\\n",
    "      VALUES (3, 'Martha', 35)\");\n",
    "conn.commit()\n",
    "conn.close()\n",
    "\n",
    "#The .commit function writes the changes to the database.\n",
    "\n",
    "#The way to Deletion in table\n",
    "conn = sqlite3.connect('my_database.sqlite')\n",
    "cursor = conn.cursor()\n",
    "conn.execute(\"DELETE from  SCHOOL where ID = 2\")\n",
    "conn.commit()\n",
    "conn.close()\n",
    "\n",
    "#To execute SQL commands using Python, simply pass the SQL statement to the conn.execute() function.\n",
    "#Any SQL statement can be executed in a similar manner."
   ]
  }
 ],
 "metadata": {
  "kernelspec": {
   "display_name": "Python 3",
   "language": "python",
   "name": "python3"
  },
  "language_info": {
   "codemirror_mode": {
    "name": "ipython",
    "version": 3
   },
   "file_extension": ".py",
   "mimetype": "text/x-python",
   "name": "python",
   "nbconvert_exporter": "python",
   "pygments_lexer": "ipython3",
   "version": "3.8.5"
  }
 },
 "nbformat": 4,
 "nbformat_minor": 5
}
