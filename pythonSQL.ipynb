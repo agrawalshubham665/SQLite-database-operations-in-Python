{
 "cells": [
  {
   "cell_type": "code",
   "execution_count": null,
   "id": "architectural-roads",
   "metadata": {},
   "outputs": [],
   "source": [
    "import sqlite3\n",
    "conn = sqlite3.connect('database.sqlite')\n",
    "cursor = conn.cursor()\n",
    "print(\"Opened database successfully\")\n",
    "cursor.execute('''CREATE TABLE EMPLOYEE\n",
    "         (ID INT PRIMARY KEY     NOT NULL,\n",
    "         NAME           TEXT    NOT NULL,\n",
    "         AGE            INT     NOT NULL);''')\n",
    "cursor.close()\n",
    "import sqlite3\n",
    "conn = sqlite3.connect('database.sqlite')\n",
    "cursor = conn.cursor()\n",
    "cursor.execute(\"INSERT INTO EMPLOYEE (ID,NAME,AGE) \\\n",
    "      VALUES (1, 'Razi', 14')\");\n",
    "cursor.execute(\"INSERT INTO EMPLOYEE (ID,NAME,AGE,ADDRESS,MARKS) \\\n",
    "      VALUES (2, 'Jon', 19, 'Bangalore', 150 )\");\n",
    "cursor.execute(\"INSERT INTO EMPLOYEE (ID,NAME,AGE) \\\n",
    "      VALUES (3, 'Martha', 35)\");\n",
    "conn.commit()\n",
    "conn.close()\n",
    "conn = sqlite3.connect('my_database.sqlite')\n",
    "cursor = conn.cursor()\n",
    "conn.execute(\"DELETE from  SCHOOL where ID = 2\")\n",
    "conn.commit()\n",
    "conn.close()"
   ]
  }
 ],
 "metadata": {
  "kernelspec": {
   "display_name": "Python 3",
   "language": "python",
   "name": "python3"
  },
  "language_info": {
   "codemirror_mode": {
    "name": "ipython",
    "version": 3
   },
   "file_extension": ".py",
   "mimetype": "text/x-python",
   "name": "python",
   "nbconvert_exporter": "python",
   "pygments_lexer": "ipython3",
   "version": "3.8.5"
  }
 },
 "nbformat": 4,
 "nbformat_minor": 5
}
